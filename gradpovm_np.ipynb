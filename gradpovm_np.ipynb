{
 "cells": [
  {
   "cell_type": "code",
   "execution_count": 61,
   "metadata": {},
   "outputs": [],
   "source": [
    "import numpy as np\n",
    "import math as m\n",
    "import random as rand\n",
    "import matplotlib.pyplot as plt\n",
    "import cmath as cm\n",
    "from tqdm import tqdm\n",
    "from sympy import *\n",
    "#from autograd import grad"
   ]
  },
  {
   "cell_type": "code",
   "execution_count": 62,
   "metadata": {},
   "outputs": [],
   "source": [
    "def partial_derivative(func, var=0, point=[]):\n",
    "    args = point[:]\n",
    "    def wraps(x):\n",
    "        args[var] = x\n",
    "        return func(*args)\n",
    "    return derivative(wraps, point[var], dx = 1e-6)\n",
    "\n",
    "def derivative(func, x, dx = 1e-6):\n",
    "    return (func(x + dx) - func(x - dx)) / (2 * dx)"
   ]
  },
  {
   "cell_type": "code",
   "execution_count": 63,
   "metadata": {},
   "outputs": [],
   "source": [
    "# defininf the states\n",
    "# defininsg coefficeients sybols\n",
    "\n",
    "def Creating_states(coeff, Abstract = False):    # coeff list like [a0,a1,b0,b1]\n",
    "    if Abstract == True:\n",
    "        a0 = symbols('a0')\n",
    "        a1 = symbols('a1')\n",
    "        b0 = symbols('b0')\n",
    "        b1 = symbols('b1')\n",
    "    else:\n",
    "        a0 = coeff[0]\n",
    "        a1 = coeff[1]\n",
    "        b0 = coeff[2]\n",
    "        b1 = coeff[3]\n",
    "    psi0 = [a0,a1]      # defining states\n",
    "    psi1 = [b0,b1]\n",
    "    return([psi0,psi1])"
   ]
  },
  {
   "cell_type": "code",
   "execution_count": 64,
   "metadata": {},
   "outputs": [],
   "source": [
    "def roundc(c, digits):\n",
    "    if c.imag == 0:\n",
    "        return round(c.real, digits)\n",
    "    else:\n",
    "        return round(c.real, digits) + round(c.imag, digits) * 1j"
   ]
  },
  {
   "cell_type": "code",
   "execution_count": 65,
   "metadata": {},
   "outputs": [],
   "source": [
    "# creating the SIC POVM matrices\n",
    "w = m.e**((2/3)*m.pi*(1j))\n",
    "POVM_vec = (1/(2**.5))*(np.array([[0,1,-1],[-1,0,1],[1,-1,0],[0,w,-w**2],[-1,0,w**2],[1,-w,0],[0,w**2,-w],[-1,0,w],[1,-w**2,0]]))  # an array of POVM direction vectors\n",
    "POVM_elts = [(1/3)*np.outer(np.conjugate(POVM_vec[i]),POVM_vec[i]) for i in range(len(POVM_vec))]   # a list of POVM matrix"
   ]
  },
  {
   "cell_type": "code",
   "execution_count": 66,
   "metadata": {},
   "outputs": [
    {
     "data": {
      "text/plain": [
       "'def np_out(a,f0,f1,t0,t1):\\n\\n    w0 = (np.cos(a))**2\\n    w1 = (np.sin(a))**2\\n    a0 = np.cos(t0)\\n    b0 = np.sin(t0)\\n    a1 = np.cos(t1)\\n    b1 = np.sin(t1)\\n    \\n    y1 = (1/6)*(w0*(b0**2)*(1 + a0**2 - 2*np.sqrt(2)*np.cos(f0)*a0*b0) + w1*(b1**2)*(1 + a1**2 - 2*np.sqrt(2)*np.cos(f1)*a1*b1)) #p1\\n    y2 = (1/6)*(w0*(a0**2)*(1 + b0**2 - 2*np.sqrt(2)*np.cos(f0)*a0*b0) + w1*(a1**2)*(1 + b1**2 - 2*np.sqrt(2)*np.cos(f1)*a1*b1)) #p2\\n    y3 = (1/6)*(w0*(a0**4 + b0**4 - 2*np.cos(2*f0)*(a0**2)*(b0**2)) + w1*(a1**4 + b1**4 - 2*np.cos(2*f1)*(a1**2)*(b1**2))) #p3\\n    y4 = (1/6)*(w0*(b0**2)*(1 + a0**2 - 2*np.sqrt(2)*np.cos(f0 + 2*np.pi/3)*a0*b0) + w1*(b1**2)*(1 + a1**2 - 2*np.sqrt(2)*np.cos(f1 + 2*np.pi/3)*a1*b1)) #p4\\n    y5 = (1/6)*(w0*(a0**2)*(1 + b0**2 - 2*np.sqrt(2)*np.cos(f0 - 2*np.pi/3)*a0*b0) + w1*(a1**2)*(1 + b1**2 - 2*np.sqrt(2)*np.cos(f1 - 2*np.pi/3)*a1*b1)) #p5\\n    y6 = (1/6)*(w0*(a0**4 + b0**4 - 2*np.cos(2*f0 - 2*np.pi/3)*(a0**2)*(b0**2)) + w1*(a1**4 + b1**4 - 2*np.cos(2*f1 - 2*np.pi/3)*(a1**2)*(b1**2))) #p6\\n    y7 = (1/6)*(w0*(b0**2)*(1 + a0**2 - 2*np.sqrt(2)*np.cos(f0 - 2*np.pi/3)*a0*b0) + w1*(b1**2)*(1 + a1**2 - 2*np.sqrt(2)*np.cos(f1 - 2*np.pi/3)*a1*b1)) #p7\\n    y8 = (1/6)*(w0*(a0**2)*(1 + b0**2 - 2*np.sqrt(2)*np.cos(f0 - 2*np.pi/3)*a0*b0) + w1*(a1**2)*(1 + b1**2 - 2*np.sqrt(2)*np.cos(f1 - 2*np.pi/3)*a1*b1)) #p8\\n    y9 = (1/6)*(w0*(a0**4 + b0**4 - 2*np.cos(2*f0 + 2*np.pi/3)*(a0**2)*(b0**2)) + w1*(a1**4 + b1**4 - 2*np.cos(2*f1 + 2*np.pi/3)*(a1**2)*(b1**2))) #p9\\n\\n    return [y1,y2,y3,y4,y5,y6,y7,y8,y9]'"
      ]
     },
     "execution_count": 66,
     "metadata": {},
     "output_type": "execute_result"
    }
   ],
   "source": [
    "'''def np_out(a,f0,f1,t0,t1):\n",
    "\n",
    "    w0 = (np.cos(a))**2\n",
    "    w1 = (np.sin(a))**2\n",
    "    a0 = np.cos(t0)\n",
    "    b0 = np.sin(t0)\n",
    "    a1 = np.cos(t1)\n",
    "    b1 = np.sin(t1)\n",
    "    \n",
    "    y1 = (1/6)*(w0*(b0**2)*(1 + a0**2 - 2*np.sqrt(2)*np.cos(f0)*a0*b0) + w1*(b1**2)*(1 + a1**2 - 2*np.sqrt(2)*np.cos(f1)*a1*b1)) #p1\n",
    "    y2 = (1/6)*(w0*(a0**2)*(1 + b0**2 - 2*np.sqrt(2)*np.cos(f0)*a0*b0) + w1*(a1**2)*(1 + b1**2 - 2*np.sqrt(2)*np.cos(f1)*a1*b1)) #p2\n",
    "    y3 = (1/6)*(w0*(a0**4 + b0**4 - 2*np.cos(2*f0)*(a0**2)*(b0**2)) + w1*(a1**4 + b1**4 - 2*np.cos(2*f1)*(a1**2)*(b1**2))) #p3\n",
    "    y4 = (1/6)*(w0*(b0**2)*(1 + a0**2 - 2*np.sqrt(2)*np.cos(f0 + 2*np.pi/3)*a0*b0) + w1*(b1**2)*(1 + a1**2 - 2*np.sqrt(2)*np.cos(f1 + 2*np.pi/3)*a1*b1)) #p4\n",
    "    y5 = (1/6)*(w0*(a0**2)*(1 + b0**2 - 2*np.sqrt(2)*np.cos(f0 - 2*np.pi/3)*a0*b0) + w1*(a1**2)*(1 + b1**2 - 2*np.sqrt(2)*np.cos(f1 - 2*np.pi/3)*a1*b1)) #p5\n",
    "    y6 = (1/6)*(w0*(a0**4 + b0**4 - 2*np.cos(2*f0 - 2*np.pi/3)*(a0**2)*(b0**2)) + w1*(a1**4 + b1**4 - 2*np.cos(2*f1 - 2*np.pi/3)*(a1**2)*(b1**2))) #p6\n",
    "    y7 = (1/6)*(w0*(b0**2)*(1 + a0**2 - 2*np.sqrt(2)*np.cos(f0 - 2*np.pi/3)*a0*b0) + w1*(b1**2)*(1 + a1**2 - 2*np.sqrt(2)*np.cos(f1 - 2*np.pi/3)*a1*b1)) #p7\n",
    "    y8 = (1/6)*(w0*(a0**2)*(1 + b0**2 - 2*np.sqrt(2)*np.cos(f0 - 2*np.pi/3)*a0*b0) + w1*(a1**2)*(1 + b1**2 - 2*np.sqrt(2)*np.cos(f1 - 2*np.pi/3)*a1*b1)) #p8\n",
    "    y9 = (1/6)*(w0*(a0**4 + b0**4 - 2*np.cos(2*f0 + 2*np.pi/3)*(a0**2)*(b0**2)) + w1*(a1**4 + b1**4 - 2*np.cos(2*f1 + 2*np.pi/3)*(a1**2)*(b1**2))) #p9\n",
    "\n",
    "    return [y1,y2,y3,y4,y5,y6,y7,y8,y9]'''"
   ]
  },
  {
   "cell_type": "code",
   "execution_count": 67,
   "metadata": {},
   "outputs": [],
   "source": [
    "def sympy_out(a,f0,f1,t0,t1):\n",
    "\n",
    "    a, f0, f1, t0, t1 = symbols('a f0 f1 t0 t1')\n",
    "\n",
    "    w0 = cos(a)**2\n",
    "    w1 = sin(a)**2\n",
    "    a0 = cos(t0)\n",
    "    b0 = sin(t0)\n",
    "    a1 = cos(t1)\n",
    "    b1 = sin(t1)\n",
    "\n",
    "    y1 = (1/6)*(w0*(b0**2)*(1 + a0**2 - 2*sqrt(2)*cos(f0)*a0*b0) + w1*(b1**2)*(1 + a1**2 - 2*sqrt(2)*cos(f1)*a1*b1)) #p1\n",
    "    y2 = (1/6)*(w0*(a0**2)*(1 + b0**2 - 2*sqrt(2)*cos(f0)*a0*b0) + w1*(a1**2)*(1 + b1**2 - 2*sqrt(2)*cos(f1)*a1*b1)) #p2\n",
    "    y3 = (1/6)*(w0*(a0**4 + b0**4 - 2*cos(2*f0)*(a0**2)*(b0**2)) + w1*(a1**4 + b1**4 - 2*cos(2*f1)*(a1**2)*(b1**2))) #p3\n",
    "    y4 = (1/6)*(w0*(b0**2)*(1 + a0**2 - 2*sqrt(2)*cos(f0 + 2*pi/3)*a0*b0) + w1*(b1**2)*(1 + a1**2 - 2*sqrt(2)*cos(f1 + 2*pi/3)*a1*b1)) #p4\n",
    "    y5 = (1/6)*(w0*(a0**2)*(1 + b0**2 - 2*sqrt(2)*cos(f0 - 2*pi/3)*a0*b0) + w1*(a1**2)*(1 + b1**2 - 2*sqrt(2)*cos(f1 - 2*pi/3)*a1*b1)) #p5\n",
    "    y6 = (1/6)*(w0*(a0**4 + b0**4 - 2*cos(2*f0 - 2*pi/3)*(a0**2)*(b0**2)) + w1*(a1**4 + b1**4 - 2*cos(2*f1 - 2*pi/3)*(a1**2)*(b1**2))) #p6\n",
    "    y7 = (1/6)*(w0*(b0**2)*(1 + a0**2 - 2*sqrt(2)*cos(f0 - 2*pi/3)*a0*b0) + w1*(b1**2)*(1 + a1**2 - 2*sqrt(2)*cos(f1 - 2*pi/3)*a1*b1)) #p7\n",
    "    y8 = (1/6)*(w0*(a0**2)*(1 + b0**2 - 2*sqrt(2)*cos(f0 - 2*pi/3)*a0*b0) + w1*(a1**2)*(1 + b1**2 - 2*sqrt(2)*cos(f1 - 2*pi/3)*a1*b1)) #p8\n",
    "    y9 = (1/6)*(w0*(a0**4 + b0**4 - 2*cos(2*f0 + 2*pi/3)*(a0**2)*(b0**2)) + w1*(a1**4 + b1**4 - 2*cos(2*f1 + 2*pi/3)*(a1**2)*(b1**2))) #p9\n",
    "\n",
    "    return [y1, y2, y3, y4, y5, y6, y7, y8, y9]"
   ]
  },
  {
   "cell_type": "code",
   "execution_count": 68,
   "metadata": {},
   "outputs": [
    {
     "data": {
      "text/plain": [
       "'def floss(ny,a,f0,f1,t0,t1):\\n    y_pred = np_out(a,f0,f1,t0,t1)\\n    log_likelihood = -np.dot(ny, np.log(y_pred))\\n    return log_likelihood'"
      ]
     },
     "execution_count": 68,
     "metadata": {},
     "output_type": "execute_result"
    }
   ],
   "source": [
    "'''def floss(ny,a,f0,f1,t0,t1):\n",
    "    y_pred = np_out(a,f0,f1,t0,t1)\n",
    "    log_likelihood = -np.dot(ny, np.log(y_pred))\n",
    "    return log_likelihood'''"
   ]
  },
  {
   "cell_type": "code",
   "execution_count": 69,
   "metadata": {},
   "outputs": [],
   "source": [
    "def sym_floss(ny,a,f0,f1,t0,t1):\n",
    "    \n",
    "    y_pred = sympy_out(a,f0,f1,t0,t1)\n",
    "    log_y_pred = [log(y) for y in y_pred]\n",
    "\n",
    "     # Convert ny and y_pred to SymPy matrices\n",
    "    ny = Matrix(ny)\n",
    "    log_y_pred = Matrix(log_y_pred)\n",
    "    \n",
    "    # Compute the dot product\n",
    "    log_likelihood = -ny.dot(log_y_pred)\n",
    "    \n",
    "    return log_likelihood"
   ]
  },
  {
   "cell_type": "code",
   "execution_count": 70,
   "metadata": {},
   "outputs": [],
   "source": [
    "def update_lr(lr, i):\n",
    "    return lr/(i+1)"
   ]
  },
  {
   "cell_type": "code",
   "execution_count": 71,
   "metadata": {},
   "outputs": [],
   "source": [
    "def grad_fid(learning_rate, N, coeff, priors, POVM_elts):\n",
    "    \n",
    "    initial_states = Creating_states(Abstract=False, coeff = coeff)     # Creating the two states with these coefficients\n",
    "    psi0 = initial_states[0]\n",
    "    psi1 = initial_states[1]    # created the states to be discriminated\n",
    "\n",
    "    psi0sq = []\n",
    "    psi1sq = []\n",
    "    [[psi0sq.append(i*j) for i in psi0] for j in psi0]\n",
    "    [[psi1sq.append(i*j) for i in psi1] for j in psi1]   \n",
    "    psi0psi0 = [psi0sq[0], np.sqrt(psi0sq[1]**2+psi0sq[2]**2), psi0sq[3]]    \n",
    "    psi1psi1 = [psi1sq[0], np.sqrt(psi1sq[1]**(2)+psi1sq[2]**(2)), psi1sq[3]]    # creating square states\n",
    "    \n",
    "    vec_psi0psi0 = np.array(psi0psi0)     \n",
    "    vec_psi1psi1 = np.array(psi1psi1)\n",
    "    rho = priors[0]*np.outer(vec_psi0psi0, np.conj(vec_psi0psi0)) + priors[1]*np.outer(vec_psi1psi1, np.conj(vec_psi1psi1))     # theoretical density matrix with priors 1/2 each.\n",
    "\n",
    "    prob_vec =  [np.trace(np.dot(POVM_elts[i],rho)) for i in range(9)] \n",
    "    prob_vec = [i.real for i in prob_vec if abs(i.imag) < .01]          # cleaned up theoretical prob vector\n",
    "\n",
    "    POVM_dir_symbols = ['d1','d2','d3','d4','d5','d6','d7','d8','d9']      # symbols to indicate collapsed direction\n",
    "    #prob distribution is simply the corresponding elements of the prob_vec\n",
    "    collapse_dir_vec = rand.choices(POVM_dir_symbols, weights=prob_vec, k = N)   # choosing collapse directions with weights for N trials\n",
    "\n",
    "    nj_vec = [collapse_dir_vec.count(f'd{i+1}') for i in range(9)]\n",
    "\n",
    "    ##################################### GRaDIENT DESCENT ##############################################\n",
    "    \n",
    "    # Initialize parameters\n",
    "    pars = [np.pi/4, np.pi/4, np.pi/4, np.pi/4, np.pi/4]  # [a, f0, f1, t0, t1]\n",
    "\n",
    "    a, f0, f1, t0, t1 = symbols('a f0 f1 t0 t1')\n",
    "    # Create a list of symbolic variables with the same length as nj_vec\n",
    "    nj_vec_sym = symbols('n:%d' % len(nj_vec))\n",
    "\n",
    "    # Compute the derivatives\n",
    "    df_da = diff(sym_floss(nj_vec_sym, a, f0, f1, t0, t1), a)\n",
    "    df_df0 = diff(sym_floss(nj_vec_sym, a, f0, f1, t0, t1), f0)\n",
    "    df_df1 = diff(sym_floss(nj_vec_sym, a, f0, f1, t0, t1), f1)\n",
    "    df_dt0 = diff(sym_floss(nj_vec_sym, a, f0, f1, t0, t1), t0)\n",
    "    df_dt1 = diff(sym_floss(nj_vec_sym, a, f0, f1, t0, t1), t1)\n",
    "\n",
    "    # Convert the derivatives to NumPy functions\n",
    "    df_da_np = lambdify((*nj_vec_sym, a, f0, f1, t0, t1), df_da, 'numpy')\n",
    "    df_df0_np = lambdify((*nj_vec_sym, a, f0, f1, t0, t1), df_df0, 'numpy')\n",
    "    df_df1_np = lambdify((*nj_vec_sym, a, f0, f1, t0, t1), df_df1, 'numpy')\n",
    "    df_dt0_np = lambdify((*nj_vec_sym, a, f0, f1, t0, t1), df_dt0, 'numpy')\n",
    "    df_dt1_np = lambdify((*nj_vec_sym, a, f0, f1, t0, t1), df_dt1, 'numpy')\n",
    "\n",
    "    # Create a list to store the loss at each epoch\n",
    "    #loss_history = []\n",
    "\n",
    "    # Train for N epochs\n",
    "    for i in range(1000):\n",
    "\n",
    "        # Compute the gradients\n",
    "        grad0 = df_da_np(nj_vec, pars[0], pars[1], pars[2], pars[3], pars[4])\n",
    "        grad1 = df_df0_np(nj_vec, pars[0], pars[1], pars[2], pars[3], pars[4])\n",
    "        grad2 = df_df1_np(nj_vec, pars[0], pars[1], pars[2], pars[3], pars[4])\n",
    "        grad3 = df_dt0_np(nj_vec, pars[0], pars[1], pars[2], pars[3], pars[4])\n",
    "        grad4 = df_dt1_np(nj_vec, pars[0], pars[1], pars[2], pars[3], pars[4])\n",
    "\n",
    "        pars[0] -= learning_rate * grad0\n",
    "        pars[1] -= learning_rate * grad1\n",
    "        pars[2] -= learning_rate * grad2\n",
    "        pars[3] -= learning_rate * grad3\n",
    "        pars[4] -= learning_rate * grad4\n",
    "\n",
    "        # append the current loss to the history\n",
    "        #loss_history.append(sym_floss(nj_vec,pars[0],pars[1],pars[2],pars[3],pars[4]))\n",
    "\n",
    "    # after the training loop\n",
    "    '''plt.figure()\n",
    "    plt.plot(loss_history, label='Loss')\n",
    "    plt.xlabel('Epoch')\n",
    "    plt.legend()\n",
    "    plt.show()'''                                   \n",
    "    \n",
    "    p0 = np.cos(pars[0])**2\n",
    "    p1 = np.sin(pars[0])**2\n",
    "    a0 = np.cos(pars[3])\n",
    "    a1 = np.sin(pars[3])\n",
    "    b0 = np.cos(pars[4])\n",
    "    b1 = np.sin(pars[4])\n",
    "    ph0 = np.cos(pars[1]) + 1j*np.sin(pars[1])\n",
    "    ph1 = np.cos(pars[2]) + 1j*np.sin(pars[2])\n",
    "    \n",
    "    psi0n = np.array([a0, ph0*a1])\n",
    "    psi1n = np.array([b0, ph1*b1])\n",
    "    \n",
    "\n",
    "    fid0 = np.abs(np.vdot(psi0, psi0n))**2\n",
    "    fid1 = np.abs(np.vdot(psi1, psi1n))**2\n",
    "\n",
    "    fid = [fid0, fid1]\n",
    "    p = [p0, p1]\n",
    "\n",
    "    return([fid,p])"
   ]
  },
  {
   "cell_type": "code",
   "execution_count": 72,
   "metadata": {},
   "outputs": [
    {
     "ename": "TypeError",
     "evalue": "_lambdifygenerated() missing 8 required positional arguments: 'n6', 'n7', 'n8', 'a', 'f0', 'f1', 't0', and 't1'",
     "output_type": "error",
     "traceback": [
      "\u001b[1;31m---------------------------------------------------------------------------\u001b[0m",
      "\u001b[1;31mTypeError\u001b[0m                                 Traceback (most recent call last)",
      "Cell \u001b[1;32mIn[72], line 16\u001b[0m\n\u001b[0;32m     12\u001b[0m psi1 \u001b[38;5;241m=\u001b[39m initial_states[\u001b[38;5;241m1\u001b[39m]\n\u001b[0;32m     14\u001b[0m pfid  \u001b[38;5;241m=\u001b[39m [\u001b[38;5;241m1\u001b[39m \u001b[38;5;28;01mfor\u001b[39;00m i \u001b[38;5;129;01min\u001b[39;00m trials]    \u001b[38;5;66;03m# perfect fidelity of 1\u001b[39;00m\n\u001b[1;32m---> 16\u001b[0m output_f \u001b[38;5;241m=\u001b[39m \u001b[43m[\u001b[49m\u001b[43mgrad_fid\u001b[49m\u001b[43m(\u001b[49m\u001b[43mlr0\u001b[49m\u001b[43m,\u001b[49m\u001b[43mi\u001b[49m\u001b[43m,\u001b[49m\u001b[43mcoeff\u001b[49m\u001b[43m,\u001b[49m\u001b[43mpriors\u001b[49m\u001b[43m,\u001b[49m\u001b[43mPOVM_elts\u001b[49m\u001b[43m)\u001b[49m\u001b[43m[\u001b[49m\u001b[38;5;241;43m0\u001b[39;49m\u001b[43m]\u001b[49m\u001b[43m \u001b[49m\u001b[38;5;28;43;01mfor\u001b[39;49;00m\u001b[43m \u001b[49m\u001b[43mi\u001b[49m\u001b[43m \u001b[49m\u001b[38;5;129;43;01min\u001b[39;49;00m\u001b[43m \u001b[49m\u001b[43mtrials\u001b[49m\u001b[43m]\u001b[49m\n\u001b[0;32m     17\u001b[0m output_p \u001b[38;5;241m=\u001b[39m [grad_fid(lr0,i,coeff,priors,POVM_elts)[\u001b[38;5;241m1\u001b[39m] \u001b[38;5;28;01mfor\u001b[39;00m i \u001b[38;5;129;01min\u001b[39;00m trials]\n\u001b[0;32m     19\u001b[0m \u001b[38;5;124;03m'''for i,t in tqdm(enumerate(trials)):\u001b[39;00m\n\u001b[0;32m     20\u001b[0m \u001b[38;5;124;03m    print(f'i_N: {i}')\u001b[39;00m\n\u001b[0;32m     21\u001b[0m \u001b[38;5;124;03m    lr = update_lr(lr0,i)\u001b[39;00m\n\u001b[1;32m   (...)\u001b[0m\n\u001b[0;32m     27\u001b[0m \u001b[38;5;124;03m    output_f.append(grad_fid(lr,t,coeff,priors,POVM_elts)[0])\u001b[39;00m\n\u001b[0;32m     28\u001b[0m \u001b[38;5;124;03m    output_p.append(grad_fid(lr,t,coeff,priors,POVM_elts)[1])'''\u001b[39;00m\n",
      "Cell \u001b[1;32mIn[72], line 16\u001b[0m, in \u001b[0;36m<listcomp>\u001b[1;34m(.0)\u001b[0m\n\u001b[0;32m     12\u001b[0m psi1 \u001b[38;5;241m=\u001b[39m initial_states[\u001b[38;5;241m1\u001b[39m]\n\u001b[0;32m     14\u001b[0m pfid  \u001b[38;5;241m=\u001b[39m [\u001b[38;5;241m1\u001b[39m \u001b[38;5;28;01mfor\u001b[39;00m i \u001b[38;5;129;01min\u001b[39;00m trials]    \u001b[38;5;66;03m# perfect fidelity of 1\u001b[39;00m\n\u001b[1;32m---> 16\u001b[0m output_f \u001b[38;5;241m=\u001b[39m [\u001b[43mgrad_fid\u001b[49m\u001b[43m(\u001b[49m\u001b[43mlr0\u001b[49m\u001b[43m,\u001b[49m\u001b[43mi\u001b[49m\u001b[43m,\u001b[49m\u001b[43mcoeff\u001b[49m\u001b[43m,\u001b[49m\u001b[43mpriors\u001b[49m\u001b[43m,\u001b[49m\u001b[43mPOVM_elts\u001b[49m\u001b[43m)\u001b[49m[\u001b[38;5;241m0\u001b[39m] \u001b[38;5;28;01mfor\u001b[39;00m i \u001b[38;5;129;01min\u001b[39;00m trials]\n\u001b[0;32m     17\u001b[0m output_p \u001b[38;5;241m=\u001b[39m [grad_fid(lr0,i,coeff,priors,POVM_elts)[\u001b[38;5;241m1\u001b[39m] \u001b[38;5;28;01mfor\u001b[39;00m i \u001b[38;5;129;01min\u001b[39;00m trials]\n\u001b[0;32m     19\u001b[0m \u001b[38;5;124;03m'''for i,t in tqdm(enumerate(trials)):\u001b[39;00m\n\u001b[0;32m     20\u001b[0m \u001b[38;5;124;03m    print(f'i_N: {i}')\u001b[39;00m\n\u001b[0;32m     21\u001b[0m \u001b[38;5;124;03m    lr = update_lr(lr0,i)\u001b[39;00m\n\u001b[1;32m   (...)\u001b[0m\n\u001b[0;32m     27\u001b[0m \u001b[38;5;124;03m    output_f.append(grad_fid(lr,t,coeff,priors,POVM_elts)[0])\u001b[39;00m\n\u001b[0;32m     28\u001b[0m \u001b[38;5;124;03m    output_p.append(grad_fid(lr,t,coeff,priors,POVM_elts)[1])'''\u001b[39;00m\n",
      "Cell \u001b[1;32mIn[71], line 57\u001b[0m, in \u001b[0;36mgrad_fid\u001b[1;34m(learning_rate, N, coeff, priors, POVM_elts)\u001b[0m\n\u001b[0;32m     50\u001b[0m \u001b[38;5;66;03m# Create a list to store the loss at each epoch\u001b[39;00m\n\u001b[0;32m     51\u001b[0m \u001b[38;5;66;03m#loss_history = []\u001b[39;00m\n\u001b[0;32m     52\u001b[0m \n\u001b[0;32m     53\u001b[0m \u001b[38;5;66;03m# Train for N epochs\u001b[39;00m\n\u001b[0;32m     54\u001b[0m \u001b[38;5;28;01mfor\u001b[39;00m i \u001b[38;5;129;01min\u001b[39;00m \u001b[38;5;28mrange\u001b[39m(\u001b[38;5;241m1000\u001b[39m):\n\u001b[0;32m     55\u001b[0m \n\u001b[0;32m     56\u001b[0m     \u001b[38;5;66;03m# Compute the gradients\u001b[39;00m\n\u001b[1;32m---> 57\u001b[0m     grad0 \u001b[38;5;241m=\u001b[39m \u001b[43mdf_da_np\u001b[49m\u001b[43m(\u001b[49m\u001b[43mnj_vec\u001b[49m\u001b[43m,\u001b[49m\u001b[43m \u001b[49m\u001b[43mpars\u001b[49m\u001b[43m[\u001b[49m\u001b[38;5;241;43m0\u001b[39;49m\u001b[43m]\u001b[49m\u001b[43m,\u001b[49m\u001b[43m \u001b[49m\u001b[43mpars\u001b[49m\u001b[43m[\u001b[49m\u001b[38;5;241;43m1\u001b[39;49m\u001b[43m]\u001b[49m\u001b[43m,\u001b[49m\u001b[43m \u001b[49m\u001b[43mpars\u001b[49m\u001b[43m[\u001b[49m\u001b[38;5;241;43m2\u001b[39;49m\u001b[43m]\u001b[49m\u001b[43m,\u001b[49m\u001b[43m \u001b[49m\u001b[43mpars\u001b[49m\u001b[43m[\u001b[49m\u001b[38;5;241;43m3\u001b[39;49m\u001b[43m]\u001b[49m\u001b[43m,\u001b[49m\u001b[43m \u001b[49m\u001b[43mpars\u001b[49m\u001b[43m[\u001b[49m\u001b[38;5;241;43m4\u001b[39;49m\u001b[43m]\u001b[49m\u001b[43m)\u001b[49m\n\u001b[0;32m     58\u001b[0m     grad1 \u001b[38;5;241m=\u001b[39m df_df0_np(nj_vec, pars[\u001b[38;5;241m0\u001b[39m], pars[\u001b[38;5;241m1\u001b[39m], pars[\u001b[38;5;241m2\u001b[39m], pars[\u001b[38;5;241m3\u001b[39m], pars[\u001b[38;5;241m4\u001b[39m])\n\u001b[0;32m     59\u001b[0m     grad2 \u001b[38;5;241m=\u001b[39m df_df1_np(nj_vec, pars[\u001b[38;5;241m0\u001b[39m], pars[\u001b[38;5;241m1\u001b[39m], pars[\u001b[38;5;241m2\u001b[39m], pars[\u001b[38;5;241m3\u001b[39m], pars[\u001b[38;5;241m4\u001b[39m])\n",
      "\u001b[1;31mTypeError\u001b[0m: _lambdifygenerated() missing 8 required positional arguments: 'n6', 'n7', 'n8', 'a', 'f0', 'f1', 't0', and 't1'"
     ]
    }
   ],
   "source": [
    "coeff = [.1**.5,.9**.5,.9**.5,.1**.5]\n",
    "priors = [.7,.3]\n",
    "#trials = [100*(i+1) for i in range(100)]\n",
    "trials = [100]\n",
    "p0trials  = [priors[0] for i in trials] \n",
    "p1trials  = [priors[1] for i in trials]\n",
    "\n",
    "lr0 = 0.001\n",
    "\n",
    "initial_states = Creating_states(coeff = coeff, Abstract=False)     # Creating the two states with these coefficients\n",
    "psi0 = initial_states[0]\n",
    "psi1 = initial_states[1]\n",
    "\n",
    "pfid  = [1 for i in trials]    # perfect fidelity of 1\n",
    "\n",
    "output_f = [grad_fid(lr0,i,coeff,priors,POVM_elts)[0] for i in trials]\n",
    "output_p = [grad_fid(lr0,i,coeff,priors,POVM_elts)[1] for i in trials]\n",
    "\n",
    "'''for i,t in tqdm(enumerate(trials)):\n",
    "    print(f'i_N: {i}')\n",
    "    lr = update_lr(lr0,i)\n",
    "    print(f'learning rate: {lr}')\n",
    "\n",
    "    output_f = []\n",
    "    output_p = []\n",
    "\n",
    "    output_f.append(grad_fid(lr,t,coeff,priors,POVM_elts)[0])\n",
    "    output_p.append(grad_fid(lr,t,coeff,priors,POVM_elts)[1])'''\n",
    "\n",
    "outputf = list(map(list, zip(*output_f)))\n",
    "outputp = list(map(list, zip(*output_p)))"
   ]
  },
  {
   "cell_type": "code",
   "execution_count": null,
   "metadata": {},
   "outputs": [
    {
     "data": {
      "image/png": "[encoded data removed]",
      "text/plain": [
       "<Figure size 1000x400 with 2 Axes>"
      ]
     },
     "metadata": {},
     "output_type": "display_data"
    },
    {
     "data": {
      "image/png": "[encoded data removed]",
      "text/plain": [
       "<Figure size 1000x400 with 2 Axes>"
      ]
     },
     "metadata": {},
     "output_type": "display_data"
    }
   ],
   "source": [
    "fig_a, (ax1a, ax2a) = plt.subplots(1,2, figsize=(10,4), sharey=True)\n",
    "ax1a.plot(trials, outputf[0], label=r'$F_0=|\\langle \\psi_0|\\psi_0^{\\,n}\\rangle|^2$')\n",
    "ax1a.plot(trials , pfid, \"--\", label=r'$F=1$')\n",
    "ax1a.set_xlabel(' N (trials)')\n",
    "ax1a.set_ylabel(r'Fidelity $F$')\n",
    "ax1a.set_title(r'$|\\psi_0\\rangle ={}|0\\rangle+{}|1\\rangle $, $p_0={}$'.format(roundc(coeff[0],1), roundc(coeff[1],1), priors[0]))\n",
    "ax1a.legend(loc='best')\n",
    "ax2a.plot(trials, outputf[1], label=r'$F_1=|\\langle \\psi_1|\\psi_1^{\\,n}\\rangle|^2$')\n",
    "ax2a.plot(trials , pfid, \"--\", label=r'$F=1$')\n",
    "ax2a.set_xlabel(' N (trials)')\n",
    "ax2a.set_ylabel(r'Fidelity $F$')\n",
    "ax2a.set_title(r'$|\\psi_1\\rangle ={}|0\\rangle+{}|1\\rangle $, $p_1={}$'.format(roundc(coeff[2],1), roundc(coeff[3],1), priors[1]))\n",
    "ax2a.legend(loc='best')\n",
    "\n",
    " \n",
    "fig_c, (ax1c, ax2c) = plt.subplots(1,2, figsize=(10,4), sharey=True)\n",
    "ax1c.plot(trials, outputp[0], label=r'$p_{0}$ numerical')\n",
    "ax1c.plot(trials, p0trials, '--', label=r'$p_{0}$ theoretical')\n",
    "ax2c.plot(trials, outputp[1], label=r'$p_{1}$ numerical')\n",
    "ax2c.plot(trials, p1trials, '--', label=r'$p_{1}$ theoretical')\n",
    "ax1c.set_xlabel(' N (trials)')\n",
    "ax2c.set_xlabel(' N (trials)')\n",
    "ax1c.set_ylabel(r'Probability')\n",
    "ax2c.set_ylabel(r'Probability')\n",
    "ax1c.legend(loc='best')\n",
    "ax2c.legend(loc='best')\n",
    "ax1c.set_title(r'$|\\psi_0\\rangle ={}|0\\rangle+{}|1\\rangle $, $p_0={}$'.format(roundc(coeff[0],1), roundc(coeff[1],1), priors[0]))\n",
    "ax2c.set_title(r'$|\\psi_1\\rangle ={}|0\\rangle+{}|1\\rangle $, $p_1={}$'.format(roundc(coeff[2],1), roundc(coeff[3],1), priors[1]))\n",
    "\n",
    "plt.show()"
   ]
  },
  {
   "cell_type": "code",
   "execution_count": null,
   "metadata": {},
   "outputs": [],
   "source": []
  }
 ],
 "metadata": {
  "kernelspec": {
   "display_name": "base",
   "language": "python",
   "name": "python3"
  },
  "language_info": {
   "codemirror_mode": {
    "name": "ipython",
    "version": 3
   },
   "file_extension": ".py",
   "mimetype": "text/x-python",
   "name": "python",
   "nbconvert_exporter": "python",
   "pygments_lexer": "ipython3",
   "version": "3.11.8"
  }
 },
 "nbformat": 4,
 "nbformat_minor": 2
}
